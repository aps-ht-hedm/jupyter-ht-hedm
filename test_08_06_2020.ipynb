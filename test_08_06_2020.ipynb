{
 "cells": [
  {
   "cell_type": "markdown",
   "metadata": {},
   "source": [
    "# Test PSOFly with BlueSky"
   ]
  },
  {
   "cell_type": "code",
   "execution_count": 1,
   "metadata": {},
   "outputs": [],
   "source": [
    "import numpy as np\n",
    "import matplotlib\n",
    "import bluesky\n",
    "import ophyd\n",
    "import apstools\n",
    "import databroker\n",
    "from datetime import datetime"
   ]
  },
  {
   "cell_type": "code",
   "execution_count": 2,
   "metadata": {},
   "outputs": [],
   "source": [
    "from seisidd.devices.motors import EnsemblePSOFlyDevice"
   ]
  },
  {
   "cell_type": "code",
   "execution_count": 3,
   "metadata": {},
   "outputs": [],
   "source": [
    "psofly = EnsemblePSOFlyDevice(\"6idhedms1:PSOFly1:\", name=\"psofly\")"
   ]
  },
  {
   "cell_type": "code",
   "execution_count": 4,
   "metadata": {},
   "outputs": [
    {
     "data": {
      "text/plain": [
       "\u001b[0;31mType:\u001b[0m        EnsemblePSOFlyDevice\n",
       "\u001b[0;31mString form:\u001b[0m EnsemblePSOFlyDevice(prefix='6idhedms1:PSOFly1:', name='psofly', read_attrs=['taxi', 'fly', 'motor_pv_name', 'start', 'end', 'slew_speed', 'scan_delta', 'delta_time', 'detector_setup_time', 'pulse_type', 'scan_control'], configuration_attrs=[])\n",
       "\u001b[0;31mFile:\u001b[0m        /home/beams0/S6HEDM/beamline/dev/jupyter-ht-hedm/seisidd/devices/motors.py\n",
       "\u001b[0;31mSource:\u001b[0m     \n",
       "\u001b[0;32mclass\u001b[0m \u001b[0mEnsemblePSOFlyDevice\u001b[0m\u001b[0;34m(\u001b[0m\u001b[0mTaxiFlyScanDevice\u001b[0m\u001b[0;34m)\u001b[0m\u001b[0;34m:\u001b[0m\u001b[0;34m\u001b[0m\n",
       "\u001b[0;34m\u001b[0m    \u001b[0;34m\"\"\"\u001b[0m\n",
       "\u001b[0;34m    PSOfly control wrapper\u001b[0m\n",
       "\u001b[0;34m    \"\"\"\u001b[0m\u001b[0;34m\u001b[0m\n",
       "\u001b[0;34m\u001b[0m    \u001b[0mmotor_pv_name\u001b[0m \u001b[0;34m=\u001b[0m \u001b[0mComponent\u001b[0m\u001b[0;34m(\u001b[0m\u001b[0mEpicsSignalRO\u001b[0m\u001b[0;34m,\u001b[0m \u001b[0;34m\"motorName\"\u001b[0m\u001b[0;34m)\u001b[0m\u001b[0;34m\u001b[0m\n",
       "\u001b[0;34m\u001b[0m    \u001b[0mstart\u001b[0m         \u001b[0;34m=\u001b[0m \u001b[0mComponent\u001b[0m\u001b[0;34m(\u001b[0m\u001b[0mEpicsSignal\u001b[0m\u001b[0;34m,\u001b[0m   \u001b[0;34m\"startPos\"\u001b[0m\u001b[0;34m)\u001b[0m\u001b[0;34m\u001b[0m\n",
       "\u001b[0;34m\u001b[0m    \u001b[0mend\u001b[0m           \u001b[0;34m=\u001b[0m \u001b[0mComponent\u001b[0m\u001b[0;34m(\u001b[0m\u001b[0mEpicsSignal\u001b[0m\u001b[0;34m,\u001b[0m   \u001b[0;34m\"endPos\"\u001b[0m\u001b[0;34m)\u001b[0m\u001b[0;34m\u001b[0m\n",
       "\u001b[0;34m\u001b[0m    \u001b[0mslew_speed\u001b[0m    \u001b[0;34m=\u001b[0m \u001b[0mComponent\u001b[0m\u001b[0;34m(\u001b[0m\u001b[0mEpicsSignal\u001b[0m\u001b[0;34m,\u001b[0m   \u001b[0;34m\"slewSpeed\"\u001b[0m\u001b[0;34m)\u001b[0m\u001b[0;34m\u001b[0m\n",
       "\u001b[0;34m\u001b[0m\u001b[0;34m\u001b[0m\n",
       "\u001b[0;34m\u001b[0m    \u001b[0;31m# scan_delta: output a trigger pulse when motor moves this increment\u001b[0m\u001b[0;34m\u001b[0m\n",
       "\u001b[0;34m\u001b[0m    \u001b[0mscan_delta\u001b[0m \u001b[0;34m=\u001b[0m \u001b[0mComponent\u001b[0m\u001b[0;34m(\u001b[0m\u001b[0mEpicsSignal\u001b[0m\u001b[0;34m,\u001b[0m \u001b[0;34m\"scanDelta\"\u001b[0m\u001b[0;34m)\u001b[0m\u001b[0;34m\u001b[0m\n",
       "\u001b[0;34m\u001b[0m\u001b[0;34m\u001b[0m\n",
       "\u001b[0;34m\u001b[0m    \u001b[0;31m# advanced controls\u001b[0m\u001b[0;34m\u001b[0m\n",
       "\u001b[0;34m\u001b[0m    \u001b[0mdelta_time\u001b[0m          \u001b[0;34m=\u001b[0m \u001b[0mComponent\u001b[0m\u001b[0;34m(\u001b[0m\u001b[0mEpicsSignalRO\u001b[0m\u001b[0;34m,\u001b[0m \u001b[0;34m\"deltaTime\"\u001b[0m   \u001b[0;34m)\u001b[0m\u001b[0;34m\u001b[0m\n",
       "\u001b[0;34m\u001b[0m    \u001b[0mdetector_setup_time\u001b[0m \u001b[0;34m=\u001b[0m \u001b[0mComponent\u001b[0m\u001b[0;34m(\u001b[0m\u001b[0mEpicsSignal\u001b[0m\u001b[0;34m,\u001b[0m   \u001b[0;34m\"detSetupTime\"\u001b[0m\u001b[0;34m)\u001b[0m\u001b[0;34m\u001b[0m\n",
       "\u001b[0;34m\u001b[0m    \u001b[0mpulse_type\u001b[0m          \u001b[0;34m=\u001b[0m \u001b[0mComponent\u001b[0m\u001b[0;34m(\u001b[0m\u001b[0mEpicsSignal\u001b[0m\u001b[0;34m,\u001b[0m   \u001b[0;34m\"pulseType\"\u001b[0m   \u001b[0;34m)\u001b[0m\u001b[0;34m\u001b[0m\n",
       "\u001b[0;34m\u001b[0m    \u001b[0mscan_control\u001b[0m        \u001b[0;34m=\u001b[0m \u001b[0mComponent\u001b[0m\u001b[0;34m(\u001b[0m\u001b[0mEpicsSignal\u001b[0m\u001b[0;34m,\u001b[0m   \u001b[0;34m\"scanControl\"\u001b[0m \u001b[0;34m)\u001b[0m\u001b[0;34m\u001b[0m\u001b[0;34m\u001b[0m\u001b[0m\n"
      ]
     },
     "metadata": {},
     "output_type": "display_data"
    }
   ],
   "source": [
    "psofly??"
   ]
  },
  {
   "cell_type": "code",
   "execution_count": 21,
   "metadata": {},
   "outputs": [],
   "source": [
    "psofly.pulse_type.put(\"Gate\")"
   ]
  },
  {
   "cell_type": "code",
   "execution_count": 5,
   "metadata": {},
   "outputs": [],
   "source": [
    "psofly.reset_fpga.put(1)"
   ]
  },
  {
   "cell_type": "code",
   "execution_count": 13,
   "metadata": {},
   "outputs": [],
   "source": [
    "# disalbe pso signal\n",
    "\n",
    "psofly.pso_state.put(str(0))  # has to be string"
   ]
  },
  {
   "cell_type": "code",
   "execution_count": 14,
   "metadata": {},
   "outputs": [],
   "source": [
    "psofly.pso_state.put(str(1))  # has to be string"
   ]
  },
  {
   "cell_type": "code",
   "execution_count": 15,
   "metadata": {},
   "outputs": [],
   "source": [
    "# disalbe pso signal\n",
    "\n",
    "psofly.pso_state.put(str(0))  # has to be string"
   ]
  },
  {
   "cell_type": "code",
   "execution_count": 16,
   "metadata": {},
   "outputs": [],
   "source": [
    "psofly.taxi.put(\"Taxi\")"
   ]
  },
  {
   "cell_type": "code",
   "execution_count": 17,
   "metadata": {},
   "outputs": [],
   "source": [
    "psofly.pso_state.put(str(1))  # has to be string"
   ]
  },
  {
   "cell_type": "code",
   "execution_count": 19,
   "metadata": {},
   "outputs": [],
   "source": [
    "psofly.fly.put(1)"
   ]
  },
  {
   "cell_type": "code",
   "execution_count": 20,
   "metadata": {},
   "outputs": [],
   "source": [
    "# disalbe pso signal after the fly\n",
    "\n",
    "psofly.pso_state.put(str(0))  # has to be string"
   ]
  },
  {
   "cell_type": "code",
   "execution_count": null,
   "metadata": {},
   "outputs": [],
   "source": []
  }
 ],
 "metadata": {
  "kernelspec": {
   "display_name": "Python 3",
   "language": "python",
   "name": "python3"
  },
  "language_info": {
   "codemirror_mode": {
    "name": "ipython",
    "version": 3
   },
   "file_extension": ".py",
   "mimetype": "text/x-python",
   "name": "python",
   "nbconvert_exporter": "python",
   "pygments_lexer": "ipython3",
   "version": "3.8.5"
  },
  "widgets": {
   "application/vnd.jupyter.widget-state+json": {
    "state": {},
    "version_major": 2,
    "version_minor": 0
   }
  }
 },
 "nbformat": 4,
 "nbformat_minor": 4
}
